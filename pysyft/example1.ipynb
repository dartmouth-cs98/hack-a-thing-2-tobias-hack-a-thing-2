{
 "cells": [
  {
   "cell_type": "markdown",
   "metadata": {},
   "source": [
    "### Intro to Federated Learning (Example)"
   ]
  },
  {
   "cell_type": "code",
   "execution_count": 1,
   "metadata": {},
   "outputs": [],
   "source": [
    "import sys\n",
    "\n",
    "import torch\n",
    "from torch.nn import Parameter\n",
    "import torch.nn as nn\n",
    "import torch.nn.functional as F\n",
    "\n",
    "import syft as sy\n",
    "\n",
    "hook = sy.TorchHook(torch)"
   ]
  },
  {
   "cell_type": "code",
   "execution_count": 2,
   "metadata": {},
   "outputs": [],
   "source": [
    "# Create virtual workers\n",
    "\n",
    "toby = sy.VirtualWorker(hook, id=\"toby\")\n",
    "julie = sy.VirtualWorker(hook, id=\"julie\")"
   ]
  },
  {
   "cell_type": "code",
   "execution_count": 3,
   "metadata": {},
   "outputs": [],
   "source": [
    "# Fake dataset\n",
    "data = torch.tensor([[3,1],[2,6],[2,0],[1,1.]], requires_grad=True)\n",
    "target = torch.tensor([[0],[0],[1],[1.]], requires_grad=True)\n",
    "\n",
    "# get pointers to training data, send some to toby/julie\n",
    "toby_data = data[0:2]\n",
    "toby_target = target[0:2]\n",
    "\n",
    "julie_data = data[2:]\n",
    "julie_target = target[2:]"
   ]
  },
  {
   "cell_type": "code",
   "execution_count": 4,
   "metadata": {},
   "outputs": [
    {
     "data": {
      "text/plain": [
       "tensor([[3., 1.],\n",
       "        [2., 6.]], grad_fn=<SliceBackward>)"
      ]
     },
     "execution_count": 4,
     "metadata": {},
     "output_type": "execute_result"
    }
   ],
   "source": [
    "# lets look at the data!\n",
    "toby_data"
   ]
  },
  {
   "cell_type": "code",
   "execution_count": 5,
   "metadata": {},
   "outputs": [
    {
     "data": {
      "text/plain": [
       "tensor([[0.],\n",
       "        [0.]], grad_fn=<SliceBackward>)"
      ]
     },
     "execution_count": 5,
     "metadata": {},
     "output_type": "execute_result"
    }
   ],
   "source": [
    "toby_target"
   ]
  },
  {
   "cell_type": "code",
   "execution_count": 6,
   "metadata": {},
   "outputs": [
    {
     "data": {
      "text/plain": [
       "tensor([[2., 0.],\n",
       "        [1., 1.]], grad_fn=<SliceBackward>)"
      ]
     },
     "execution_count": 6,
     "metadata": {},
     "output_type": "execute_result"
    }
   ],
   "source": [
    "julie_data"
   ]
  },
  {
   "cell_type": "code",
   "execution_count": 7,
   "metadata": {},
   "outputs": [
    {
     "data": {
      "text/plain": [
       "tensor([[1.],\n",
       "        [1.]], grad_fn=<SliceBackward>)"
      ]
     },
     "execution_count": 7,
     "metadata": {},
     "output_type": "execute_result"
    }
   ],
   "source": [
    "julie_target"
   ]
  },
  {
   "cell_type": "code",
   "execution_count": 8,
   "metadata": {},
   "outputs": [],
   "source": [
    "# Initialize fake model\n",
    "model = nn.Linear(2,1)\n",
    "toby_data = toby_data.send(toby)\n",
    "julie_data = julie_data.send(julie)\n",
    "toby_target = toby_target.send(toby)\n",
    "julie_target = julie_target.send(julie)"
   ]
  },
  {
   "cell_type": "code",
   "execution_count": 9,
   "metadata": {},
   "outputs": [
    {
     "data": {
      "text/plain": [
       "{30786630407: tensor([[3., 1.],\n",
       "         [2., 6.]], requires_grad=True),\n",
       " 77150670350: tensor([[0.],\n",
       "         [0.]], requires_grad=True)}"
      ]
     },
     "execution_count": 9,
     "metadata": {},
     "output_type": "execute_result"
    }
   ],
   "source": [
    "# examine what everythng looks like\n",
    "toby_data.location._objects"
   ]
  },
  {
   "cell_type": "code",
   "execution_count": 10,
   "metadata": {},
   "outputs": [
    {
     "data": {
      "text/plain": [
       "(Wrapper)>[PointerTensor | me:52001299336 -> julie:22736638647]"
      ]
     },
     "execution_count": 10,
     "metadata": {},
     "output_type": "execute_result"
    }
   ],
   "source": [
    "julie_data"
   ]
  },
  {
   "cell_type": "code",
   "execution_count": 11,
   "metadata": {},
   "outputs": [
    {
     "data": {
      "text/plain": [
       "(Wrapper)>[PointerTensor | me:36849338081 -> toby:77150670350]"
      ]
     },
     "execution_count": 11,
     "metadata": {},
     "output_type": "execute_result"
    }
   ],
   "source": [
    "toby_target"
   ]
  },
  {
   "cell_type": "code",
   "execution_count": 12,
   "metadata": {},
   "outputs": [
    {
     "data": {
      "text/plain": [
       "(Wrapper)>[PointerTensor | me:75798397008 -> julie:6533946021]"
      ]
     },
     "execution_count": 12,
     "metadata": {},
     "output_type": "execute_result"
    }
   ],
   "source": [
    "julie_target"
   ]
  },
  {
   "cell_type": "code",
   "execution_count": 13,
   "metadata": {},
   "outputs": [
    {
     "data": {
      "text/plain": [
       "[[(Wrapper)>[PointerTensor | me:1767604664 -> toby:30786630407],\n",
       "  (Wrapper)>[PointerTensor | me:36849338081 -> toby:77150670350]],\n",
       " [(Wrapper)>[PointerTensor | me:52001299336 -> julie:22736638647],\n",
       "  (Wrapper)>[PointerTensor | me:75798397008 -> julie:6533946021]]]"
      ]
     },
     "execution_count": 13,
     "metadata": {},
     "output_type": "execute_result"
    }
   ],
   "source": [
    "# organize pointers into list\n",
    "datasets = [[toby_data, toby_target], [julie_data, julie_target]]\n",
    "datasets"
   ]
  },
  {
   "cell_type": "code",
   "execution_count": null,
   "metadata": {},
   "outputs": [],
   "source": []
  },
  {
   "cell_type": "code",
   "execution_count": 24,
   "metadata": {},
   "outputs": [],
   "source": [
    "def train():\n",
    "    # Training logic stuff\n",
    "    for iter in range(10):\n",
    "\n",
    "        # go through each worker data\n",
    "        for data,target in datasets:\n",
    "            \n",
    "            print (data) # want to see what things look like\n",
    "            # send model to the worker\n",
    "            model.send(data.location)\n",
    "            \n",
    "            opt = optim.get_optim(data.location.id) # on the Optims object\n",
    "\n",
    "            # ensure you get a clean gradient\n",
    "            opt.zero_grad()\n",
    "\n",
    "            pred = model(data)\n",
    "\n",
    "            # calculate loss\n",
    "            loss = ((pred - target)**2).sum()\n",
    "\n",
    "            # identify weights that caused loss\n",
    "            loss.backward()\n",
    "\n",
    "            # update weights\n",
    "            opt.step()\n",
    "            \n",
    "            model.get()\n",
    "\n",
    "            # print progress\n",
    "            print(loss.get().data) \n"
   ]
  },
  {
   "cell_type": "code",
   "execution_count": 25,
   "metadata": {},
   "outputs": [
    {
     "name": "stdout",
     "output_type": "stream",
     "text": [
      "(Wrapper)>[PointerTensor | me:1767604664 -> toby:30786630407]\n",
      "tensor(1.8191)\n",
      "(Wrapper)>[PointerTensor | me:52001299336 -> julie:22736638647]\n",
      "tensor(0.6406)\n",
      "(Wrapper)>[PointerTensor | me:1767604664 -> toby:30786630407]\n",
      "tensor(1.8191)\n",
      "(Wrapper)>[PointerTensor | me:52001299336 -> julie:22736638647]\n",
      "tensor(0.6406)\n",
      "(Wrapper)>[PointerTensor | me:1767604664 -> toby:30786630407]\n",
      "tensor(1.8191)\n",
      "(Wrapper)>[PointerTensor | me:52001299336 -> julie:22736638647]\n",
      "tensor(0.6406)\n",
      "(Wrapper)>[PointerTensor | me:1767604664 -> toby:30786630407]\n",
      "tensor(1.8191)\n",
      "(Wrapper)>[PointerTensor | me:52001299336 -> julie:22736638647]\n",
      "tensor(0.6406)\n",
      "(Wrapper)>[PointerTensor | me:1767604664 -> toby:30786630407]\n",
      "tensor(1.8191)\n",
      "(Wrapper)>[PointerTensor | me:52001299336 -> julie:22736638647]\n",
      "tensor(0.6406)\n",
      "(Wrapper)>[PointerTensor | me:1767604664 -> toby:30786630407]\n",
      "tensor(1.8191)\n",
      "(Wrapper)>[PointerTensor | me:52001299336 -> julie:22736638647]\n",
      "tensor(0.6406)\n",
      "(Wrapper)>[PointerTensor | me:1767604664 -> toby:30786630407]\n",
      "tensor(1.8191)\n",
      "(Wrapper)>[PointerTensor | me:52001299336 -> julie:22736638647]\n",
      "tensor(0.6406)\n",
      "(Wrapper)>[PointerTensor | me:1767604664 -> toby:30786630407]\n",
      "tensor(1.8191)\n",
      "(Wrapper)>[PointerTensor | me:52001299336 -> julie:22736638647]\n",
      "tensor(0.6406)\n",
      "(Wrapper)>[PointerTensor | me:1767604664 -> toby:30786630407]\n",
      "tensor(1.8191)\n",
      "(Wrapper)>[PointerTensor | me:52001299336 -> julie:22736638647]\n",
      "tensor(0.6406)\n",
      "(Wrapper)>[PointerTensor | me:1767604664 -> toby:30786630407]\n",
      "tensor(1.8191)\n",
      "(Wrapper)>[PointerTensor | me:52001299336 -> julie:22736638647]\n",
      "tensor(0.6406)\n"
     ]
    }
   ],
   "source": [
    "train()"
   ]
  }
 ],
 "metadata": {
  "kernelspec": {
   "display_name": "Python 3",
   "language": "python",
   "name": "python3"
  },
  "language_info": {
   "codemirror_mode": {
    "name": "ipython",
    "version": 3
   },
   "file_extension": ".py",
   "mimetype": "text/x-python",
   "name": "python",
   "nbconvert_exporter": "python",
   "pygments_lexer": "ipython3",
   "version": "3.8.3"
  }
 },
 "nbformat": 4,
 "nbformat_minor": 4
}
