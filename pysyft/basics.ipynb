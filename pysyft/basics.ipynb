{
 "cells": [
  {
   "cell_type": "code",
   "execution_count": 4,
   "metadata": {},
   "outputs": [
    {
     "name": "stdout",
     "output_type": "stream",
     "text": [
      "Collecting syft\n",
      "  Downloading syft-0.2.9-py3-none-any.whl (433 kB)\n",
      "\u001b[K     |████████████████████████████████| 433 kB 3.2 MB/s eta 0:00:01\n",
      "\u001b[?25hCollecting dill~=0.3.1\n",
      "  Downloading dill-0.3.2.zip (177 kB)\n",
      "\u001b[K     |████████████████████████████████| 177 kB 57.6 MB/s eta 0:00:01\n",
      "\u001b[?25hCollecting Flask~=1.1.1\n",
      "  Downloading Flask-1.1.2-py2.py3-none-any.whl (94 kB)\n",
      "\u001b[K     |████████████████████████████████| 94 kB 7.6 MB/s  eta 0:00:01\n",
      "\u001b[?25hCollecting importlib-resources~=1.5.0\n",
      "  Downloading importlib_resources-1.5.0-py2.py3-none-any.whl (21 kB)\n",
      "Collecting tornado==4.5.3\n",
      "  Downloading tornado-4.5.3.tar.gz (484 kB)\n",
      "\u001b[K     |████████████████████████████████| 484 kB 53.5 MB/s eta 0:00:01\n",
      "\u001b[?25hCollecting flask-socketio~=4.2.1\n",
      "  Downloading Flask_SocketIO-4.2.1-py2.py3-none-any.whl (16 kB)\n",
      "Collecting aiortc==0.9.28\n",
      "  Downloading aiortc-0.9.28-cp38-cp38-manylinux2010_x86_64.whl (2.0 MB)\n",
      "\u001b[K     |████████████████████████████████| 2.0 MB 31.7 MB/s eta 0:00:01\n",
      "\u001b[?25hCollecting torch~=1.4.0\n",
      "  Downloading torch-1.4.0-cp38-cp38-manylinux1_x86_64.whl (753.4 MB)\n",
      "\u001b[K     |███████████████████             | 446.7 MB 55.2 MB/s eta 0:00:064"
     ]
    },
    {
     "name": "stderr",
     "output_type": "stream",
     "text": [
      "IOPub data rate exceeded.\n",
      "The notebook server will temporarily stop sending output\n",
      "to the client in order to avoid crashing it.\n",
      "To change this limit, set the config variable\n",
      "`--NotebookApp.iopub_data_rate_limit`.\n",
      "\n",
      "Current values:\n",
      "NotebookApp.iopub_data_rate_limit=1000000.0 (bytes/sec)\n",
      "NotebookApp.rate_limit_window=3.0 (secs)\n",
      "\n"
     ]
    },
    {
     "name": "stdout",
     "output_type": "stream",
     "text": [
      "\u001b[K     |███████████████████████████████▍| 739.8 MB 104.6 MB/s eta 0:00:01"
     ]
    },
    {
     "name": "stderr",
     "output_type": "stream",
     "text": [
      "IOPub data rate exceeded.\n",
      "The notebook server will temporarily stop sending output\n",
      "to the client in order to avoid crashing it.\n",
      "To change this limit, set the config variable\n",
      "`--NotebookApp.iopub_data_rate_limit`.\n",
      "\n",
      "Current values:\n",
      "NotebookApp.iopub_data_rate_limit=1000000.0 (bytes/sec)\n",
      "NotebookApp.rate_limit_window=3.0 (secs)\n",
      "\n"
     ]
    },
    {
     "name": "stdout",
     "output_type": "stream",
     "text": [
      "\u001b[K     |████████████████████████████████| 753.4 MB 59 kB/s \n",
      "\u001b[?25hCollecting requests-toolbelt==0.9.1\n",
      "  Downloading requests_toolbelt-0.9.1-py2.py3-none-any.whl (54 kB)\n",
      "\u001b[K     |████████████████████████████████| 54 kB 6.7 MB/s  eta 0:00:01\n",
      "\u001b[?25hCollecting numpy~=1.18.1\n",
      "  Downloading numpy-1.18.5-cp38-cp38-manylinux1_x86_64.whl (20.6 MB)\n",
      "\u001b[K     |████████████████████████████████| 20.6 MB 60.8 MB/s eta 0:00:01\n",
      "\u001b[?25hCollecting psutil==5.7.0\n",
      "  Downloading psutil-5.7.0.tar.gz (449 kB)\n",
      "\u001b[K     |████████████████████████████████| 449 kB 74.8 MB/s eta 0:00:01\n",
      "\u001b[?25hCollecting torchvision~=0.5.0\n",
      "  Downloading torchvision-0.5.0-cp38-cp38-manylinux1_x86_64.whl (4.0 MB)\n",
      "\u001b[K     |████████████████████████████████| 4.0 MB 35.4 MB/s eta 0:00:01\n",
      "\u001b[?25hCollecting openmined.threepio==0.2.0\n",
      "  Downloading openmined.threepio-0.2.0.tar.gz (73 kB)\n",
      "\u001b[K     |████████████████████████████████| 73 kB 6.0 MB/s  eta 0:00:01\n",
      "\u001b[?25hCollecting requests~=2.22.0\n",
      "  Downloading requests-2.22.0-py2.py3-none-any.whl (57 kB)\n",
      "\u001b[K     |████████████████████████████████| 57 kB 9.6 MB/s  eta 0:00:01\n",
      "\u001b[?25hCollecting phe~=1.4.0\n",
      "  Downloading phe-1.4.0.tar.gz (35 kB)\n",
      "Collecting tblib~=1.6.0\n",
      "  Downloading tblib-1.6.0-py2.py3-none-any.whl (12 kB)\n",
      "Collecting websockets~=8.1.0\n",
      "  Downloading websockets-8.1-cp38-cp38-manylinux2010_x86_64.whl (78 kB)\n",
      "\u001b[K     |████████████████████████████████| 78 kB 13.5 MB/s eta 0:00:01\n",
      "\u001b[?25hCollecting websocket-client~=0.57.0\n",
      "  Downloading websocket_client-0.57.0-py2.py3-none-any.whl (200 kB)\n",
      "\u001b[K     |████████████████████████████████| 200 kB 65.2 MB/s eta 0:00:01\n",
      "\u001b[?25hCollecting msgpack~=1.0.0\n",
      "  Downloading msgpack-1.0.0-cp38-cp38-manylinux1_x86_64.whl (303 kB)\n",
      "\u001b[K     |████████████████████████████████| 303 kB 37.8 MB/s eta 0:00:01\n",
      "\u001b[?25hCollecting syft-proto~=0.5.2\n",
      "  Downloading syft_proto-0.5.2-py3-none-any.whl (63 kB)\n",
      "\u001b[K     |████████████████████████████████| 63 kB 8.9 MB/s  eta 0:00:01\n",
      "\u001b[?25hRequirement already satisfied: Pillow>=7.1.0 in /root/miniconda3/lib/python3.8/site-packages (from syft) (7.2.0)\n",
      "Collecting scipy~=1.4.1\n",
      "  Downloading scipy-1.4.1-cp38-cp38-manylinux1_x86_64.whl (26.0 MB)\n",
      "\u001b[K     |████████████████████████████████| 26.0 MB 66.7 MB/s eta 0:00:01\n",
      "\u001b[?25hCollecting RestrictedPython~=5.0\n",
      "  Downloading RestrictedPython-5.1-py2.py3-none-any.whl (27 kB)\n",
      "Collecting lz4~=3.0.2\n",
      "  Downloading lz4-3.0.2-cp38-cp38-manylinux2010_x86_64.whl (1.8 MB)\n",
      "\u001b[K     |████████████████████████████████| 1.8 MB 33.9 MB/s eta 0:00:01\n",
      "\u001b[?25hCollecting notebook==5.7.8\n",
      "  Downloading notebook-5.7.8-py2.py3-none-any.whl (9.0 MB)\n",
      "\u001b[K     |████████████████████████████████| 9.0 MB 65.2 MB/s eta 0:00:01\n",
      "\u001b[?25hCollecting shaloop==0.2.1-alpha.11\n",
      "  Downloading shaloop-0.2.1_alpha.11-py3-none-manylinux1_x86_64.whl (126 kB)\n",
      "\u001b[K     |████████████████████████████████| 126 kB 36.2 MB/s eta 0:00:01\n",
      "\u001b[?25hRequirement already satisfied: Jinja2>=2.10.1 in /root/miniconda3/lib/python3.8/site-packages (from Flask~=1.1.1->syft) (2.11.2)\n",
      "Collecting Werkzeug>=0.15\n",
      "  Downloading Werkzeug-1.0.1-py2.py3-none-any.whl (298 kB)\n",
      "\u001b[K     |████████████████████████████████| 298 kB 33.4 MB/s eta 0:00:01\n",
      "\u001b[?25hCollecting click>=5.1\n",
      "  Downloading click-7.1.2-py2.py3-none-any.whl (82 kB)\n",
      "\u001b[K     |████████████████████████████████| 82 kB 3.3 MB/s  eta 0:00:01\n",
      "\u001b[?25hCollecting itsdangerous>=0.24\n",
      "  Downloading itsdangerous-1.1.0-py2.py3-none-any.whl (16 kB)\n",
      "Collecting python-socketio>=4.3.0\n",
      "  Downloading python_socketio-4.6.0-py2.py3-none-any.whl (51 kB)\n",
      "\u001b[K     |████████████████████████████████| 51 kB 1.7 MB/s  eta 0:00:01\n",
      "\u001b[?25hRequirement already satisfied: cffi>=1.0.0 in /root/miniconda3/lib/python3.8/site-packages (from aiortc==0.9.28->syft) (1.14.3)\n",
      "Collecting pyee>=6.0.0\n",
      "  Downloading pyee-8.1.0-py2.py3-none-any.whl (12 kB)\n",
      "Collecting pylibsrtp>=0.5.6\n",
      "  Downloading pylibsrtp-0.6.6-cp38-cp38-manylinux2010_x86_64.whl (74 kB)\n",
      "\u001b[K     |████████████████████████████████| 74 kB 6.0 MB/s  eta 0:00:01\n",
      "\u001b[?25hCollecting av<9.0.0,>=8.0.0\n",
      "  Downloading av-8.0.2-cp38-cp38-manylinux2010_x86_64.whl (37.8 MB)\n",
      "\u001b[K     |████████████████████████████████| 37.8 MB 29.7 MB/s eta 0:00:01\n",
      "\u001b[?25hCollecting aioice<0.7.0,>=0.6.17\n",
      "  Downloading aioice-0.6.18-py3-none-any.whl (19 kB)\n",
      "Requirement already satisfied: cryptography>=2.2 in /root/miniconda3/lib/python3.8/site-packages (from aiortc==0.9.28->syft) (3.1.1)\n",
      "Collecting crc32c\n",
      "  Downloading crc32c-2.1-cp38-cp38-manylinux2010_x86_64.whl (44 kB)\n",
      "\u001b[K     |████████████████████████████████| 44 kB 4.6 MB/s  eta 0:00:01\n",
      "\u001b[?25hRequirement already satisfied: six in /root/miniconda3/lib/python3.8/site-packages (from torchvision~=0.5.0->syft) (1.15.0)\n",
      "Requirement already satisfied: certifi>=2017.4.17 in /root/miniconda3/lib/python3.8/site-packages (from requests~=2.22.0->syft) (2020.6.20)\n",
      "Requirement already satisfied: chardet<3.1.0,>=3.0.2 in /root/miniconda3/lib/python3.8/site-packages (from requests~=2.22.0->syft) (3.0.4)\n",
      "Collecting idna<2.9,>=2.5\n",
      "  Downloading idna-2.8-py2.py3-none-any.whl (58 kB)\n",
      "\u001b[K     |████████████████████████████████| 58 kB 18.3 MB/s eta 0:00:01\n",
      "\u001b[?25hRequirement already satisfied: urllib3!=1.25.0,!=1.25.1,<1.26,>=1.21.1 in /root/miniconda3/lib/python3.8/site-packages (from requests~=2.22.0->syft) (1.25.10)\n",
      "Collecting protobuf>=3.12.2\n",
      "  Downloading protobuf-3.13.0-cp38-cp38-manylinux1_x86_64.whl (1.3 MB)\n",
      "\u001b[K     |████████████████████████████████| 1.3 MB 44.3 MB/s eta 0:00:01\n",
      "\u001b[?25hRequirement already satisfied: jupyter-core>=4.4.0 in /root/miniconda3/lib/python3.8/site-packages (from notebook==5.7.8->syft) (4.6.3)\n",
      "Requirement already satisfied: nbformat in /root/miniconda3/lib/python3.8/site-packages (from notebook==5.7.8->syft) (5.0.7)\n",
      "Requirement already satisfied: nbconvert in /root/miniconda3/lib/python3.8/site-packages (from notebook==5.7.8->syft) (6.0.7)\n",
      "Requirement already satisfied: traitlets>=4.2.1 in /root/miniconda3/lib/python3.8/site-packages (from notebook==5.7.8->syft) (5.0.4)\n",
      "Requirement already satisfied: pyzmq>=17 in /root/miniconda3/lib/python3.8/site-packages (from notebook==5.7.8->syft) (19.0.2)\n",
      "Requirement already satisfied: jupyter-client>=5.2.0 in /root/miniconda3/lib/python3.8/site-packages (from notebook==5.7.8->syft) (6.1.7)\n",
      "Requirement already satisfied: ipykernel in /root/miniconda3/lib/python3.8/site-packages (from notebook==5.7.8->syft) (5.3.4)\n",
      "Requirement already satisfied: terminado>=0.8.1 in /root/miniconda3/lib/python3.8/site-packages (from notebook==5.7.8->syft) (0.9.1)\n",
      "Requirement already satisfied: prometheus-client in /root/miniconda3/lib/python3.8/site-packages (from notebook==5.7.8->syft) (0.8.0)\n",
      "Requirement already satisfied: ipython-genutils in /root/miniconda3/lib/python3.8/site-packages (from notebook==5.7.8->syft) (0.2.0)\n",
      "Requirement already satisfied: Send2Trash in /root/miniconda3/lib/python3.8/site-packages (from notebook==5.7.8->syft) (1.5.0)\n",
      "Requirement already satisfied: pycparser>=2 in /root/miniconda3/lib/python3.8/site-packages (from shaloop==0.2.1-alpha.11->syft) (2.20)\n",
      "Requirement already satisfied: MarkupSafe>=0.23 in /root/miniconda3/lib/python3.8/site-packages (from Jinja2>=2.10.1->Flask~=1.1.1->syft) (1.1.1)\n",
      "Collecting python-engineio>=3.13.0\n",
      "  Downloading python_engineio-3.13.2-py2.py3-none-any.whl (50 kB)\n",
      "\u001b[K     |████████████████████████████████| 50 kB 17.0 MB/s eta 0:00:01\n",
      "\u001b[?25hCollecting netifaces\n",
      "  Downloading netifaces-0.10.9.tar.gz (28 kB)\n",
      "Requirement already satisfied: setuptools in /root/miniconda3/lib/python3.8/site-packages (from protobuf>=3.12.2->syft-proto~=0.5.2->syft) (49.6.0.post20200925)\n",
      "Requirement already satisfied: jsonschema!=2.5.0,>=2.4 in /root/miniconda3/lib/python3.8/site-packages (from nbformat->notebook==5.7.8->syft) (3.2.0)\n",
      "Requirement already satisfied: testpath in /root/miniconda3/lib/python3.8/site-packages (from nbconvert->notebook==5.7.8->syft) (0.4.4)\n",
      "Requirement already satisfied: bleach in /root/miniconda3/lib/python3.8/site-packages (from nbconvert->notebook==5.7.8->syft) (3.2.1)\n",
      "Requirement already satisfied: defusedxml in /root/miniconda3/lib/python3.8/site-packages (from nbconvert->notebook==5.7.8->syft) (0.6.0)\n",
      "Requirement already satisfied: pygments>=2.4.1 in /root/miniconda3/lib/python3.8/site-packages (from nbconvert->notebook==5.7.8->syft) (2.7.1)\n",
      "Requirement already satisfied: pandocfilters>=1.4.1 in /root/miniconda3/lib/python3.8/site-packages (from nbconvert->notebook==5.7.8->syft) (1.4.2)\n",
      "Requirement already satisfied: mistune<2,>=0.8.1 in /root/miniconda3/lib/python3.8/site-packages (from nbconvert->notebook==5.7.8->syft) (0.8.4)\n",
      "Requirement already satisfied: nbclient<0.6.0,>=0.5.0 in /root/miniconda3/lib/python3.8/site-packages (from nbconvert->notebook==5.7.8->syft) (0.5.0)\n",
      "Requirement already satisfied: jupyterlab-pygments in /root/miniconda3/lib/python3.8/site-packages (from nbconvert->notebook==5.7.8->syft) (0.1.2)\n",
      "Requirement already satisfied: entrypoints>=0.2.2 in /root/miniconda3/lib/python3.8/site-packages (from nbconvert->notebook==5.7.8->syft) (0.3)\n",
      "Requirement already satisfied: python-dateutil>=2.1 in /root/miniconda3/lib/python3.8/site-packages (from jupyter-client>=5.2.0->notebook==5.7.8->syft) (2.8.1)\n",
      "Requirement already satisfied: ipython>=5.0.0 in /root/miniconda3/lib/python3.8/site-packages (from ipykernel->notebook==5.7.8->syft) (7.18.1)\n",
      "Requirement already satisfied: ptyprocess; os_name != \"nt\" in /root/miniconda3/lib/python3.8/site-packages (from terminado>=0.8.1->notebook==5.7.8->syft) (0.6.0)\n",
      "Requirement already satisfied: attrs>=17.4.0 in /root/miniconda3/lib/python3.8/site-packages (from jsonschema!=2.5.0,>=2.4->nbformat->notebook==5.7.8->syft) (20.2.0)\n",
      "Requirement already satisfied: pyrsistent>=0.14.0 in /root/miniconda3/lib/python3.8/site-packages (from jsonschema!=2.5.0,>=2.4->nbformat->notebook==5.7.8->syft) (0.17.3)\n",
      "Requirement already satisfied: webencodings in /root/miniconda3/lib/python3.8/site-packages (from bleach->nbconvert->notebook==5.7.8->syft) (0.5.1)\n",
      "Requirement already satisfied: packaging in /root/miniconda3/lib/python3.8/site-packages (from bleach->nbconvert->notebook==5.7.8->syft) (20.4)\n",
      "Requirement already satisfied: async-generator in /root/miniconda3/lib/python3.8/site-packages (from nbclient<0.6.0,>=0.5.0->nbconvert->notebook==5.7.8->syft) (1.10)\n",
      "Requirement already satisfied: nest-asyncio in /root/miniconda3/lib/python3.8/site-packages (from nbclient<0.6.0,>=0.5.0->nbconvert->notebook==5.7.8->syft) (1.4.1)\n",
      "Requirement already satisfied: pexpect>4.3; sys_platform != \"win32\" in /root/miniconda3/lib/python3.8/site-packages (from ipython>=5.0.0->ipykernel->notebook==5.7.8->syft) (4.8.0)\n",
      "Requirement already satisfied: jedi>=0.10 in /root/miniconda3/lib/python3.8/site-packages (from ipython>=5.0.0->ipykernel->notebook==5.7.8->syft) (0.17.2)\n",
      "Requirement already satisfied: prompt-toolkit!=3.0.0,!=3.0.1,<3.1.0,>=2.0.0 in /root/miniconda3/lib/python3.8/site-packages (from ipython>=5.0.0->ipykernel->notebook==5.7.8->syft) (3.0.7)\n",
      "Requirement already satisfied: pickleshare in /root/miniconda3/lib/python3.8/site-packages (from ipython>=5.0.0->ipykernel->notebook==5.7.8->syft) (0.7.5)\n",
      "Requirement already satisfied: backcall in /root/miniconda3/lib/python3.8/site-packages (from ipython>=5.0.0->ipykernel->notebook==5.7.8->syft) (0.2.0)\n",
      "Requirement already satisfied: decorator in /root/miniconda3/lib/python3.8/site-packages (from ipython>=5.0.0->ipykernel->notebook==5.7.8->syft) (4.4.2)\n",
      "Requirement already satisfied: pyparsing>=2.0.2 in /root/miniconda3/lib/python3.8/site-packages (from packaging->bleach->nbconvert->notebook==5.7.8->syft) (2.4.7)\n",
      "Requirement already satisfied: parso<0.8.0,>=0.7.0 in /root/miniconda3/lib/python3.8/site-packages (from jedi>=0.10->ipython>=5.0.0->ipykernel->notebook==5.7.8->syft) (0.7.0)\n",
      "Requirement already satisfied: wcwidth in /root/miniconda3/lib/python3.8/site-packages (from prompt-toolkit!=3.0.0,!=3.0.1,<3.1.0,>=2.0.0->ipython>=5.0.0->ipykernel->notebook==5.7.8->syft) (0.2.5)\n",
      "Building wheels for collected packages: dill, tornado, psutil, openmined.threepio, phe, netifaces\n",
      "  Building wheel for dill (setup.py) ... \u001b[?25ldone\n",
      "\u001b[?25h  Created wheel for dill: filename=dill-0.3.2-py3-none-any.whl size=78912 sha256=73961d2da0f4f8ed1301b1208163a9fb73edb096497af9eb7f4fbd42ac62dddc\n",
      "  Stored in directory: /root/.cache/pip/wheels/93/7f/7d/78ec535a4340ef2696aad8b17fe8bb063d56301bd62881b069\n",
      "  Building wheel for tornado (setup.py) ... \u001b[?25ldone\n",
      "\u001b[?25h  Created wheel for tornado: filename=tornado-4.5.3-cp38-cp38-linux_x86_64.whl size=433041 sha256=bb3e1fa9a5e3a15fcb0772d3fd19ea8f0cd194e41eb83c099c553559c15d65ff\n",
      "  Stored in directory: /root/.cache/pip/wheels/20/fe/26/0c03adccd0cec2744261ec6b8380fbe5e726d1ea4cf3a9370e\n",
      "  Building wheel for psutil (setup.py) ... \u001b[?25ldone\n",
      "\u001b[?25h  Created wheel for psutil: filename=psutil-5.7.0-cp38-cp38-linux_x86_64.whl size=276833 sha256=7f4674d9a038c62b74168d19d2c1c0b590a550de41ea8083c93f313447e461db\n",
      "  Stored in directory: /root/.cache/pip/wheels/90/c9/b6/04665702b01dbd9ee92a05e834b627948ed01cdd482e6a78e1\n",
      "  Building wheel for openmined.threepio (setup.py) ... \u001b[?25ldone\n",
      "\u001b[?25h  Created wheel for openmined.threepio: filename=openmined.threepio-0.2.0-py3-none-any.whl size=80094 sha256=cd33b70340fee40b3692191549d509047e2227197ed3eaa1f5e579b721bc7d40\n",
      "  Stored in directory: /root/.cache/pip/wheels/79/4d/4f/ccec738f40c7a94fed7c0f1db1aecc944a8f0cdfe4f3867865\n",
      "  Building wheel for phe (setup.py) ... \u001b[?25ldone\n",
      "\u001b[?25h  Created wheel for phe: filename=phe-1.4.0-py2.py3-none-any.whl size=37364 sha256=212d555f6423511d8b8bf773dcfba20730a44fcb9452d446622f38614471b92e\n",
      "  Stored in directory: /root/.cache/pip/wheels/f7/6a/39/9f3220117feb615a398d60a0d6875f9becadee3d09af64f7bf\n",
      "  Building wheel for netifaces (setup.py) ... \u001b[?25ldone\n",
      "\u001b[?25h  Created wheel for netifaces: filename=netifaces-0.10.9-cp38-cp38-linux_x86_64.whl size=37735 sha256=345bb92be521d000cefa44c568f616969e4261a20b187c4f2aa098c45955014f\n",
      "  Stored in directory: /root/.cache/pip/wheels/9b/51/d5/d4682860392414da28ba3c5ffac0243983399b868a9cced6df\n",
      "Successfully built dill tornado psutil openmined.threepio phe netifaces\n",
      "Installing collected packages: dill, Werkzeug, click, itsdangerous, Flask, importlib-resources, tornado, python-engineio, python-socketio, flask-socketio, pyee, pylibsrtp, av, netifaces, aioice, crc32c, aiortc, torch, idna, requests, requests-toolbelt, numpy, psutil, torchvision, openmined.threepio, phe, tblib, websockets, websocket-client, msgpack, protobuf, syft-proto, scipy, RestrictedPython, lz4, notebook, shaloop, syft\n",
      "  Attempting uninstall: tornado\n",
      "    Found existing installation: tornado 6.0.4\n",
      "    Uninstalling tornado-6.0.4:\n",
      "      Successfully uninstalled tornado-6.0.4\n",
      "  Attempting uninstall: torch\n",
      "    Found existing installation: torch 1.6.0\n",
      "    Uninstalling torch-1.6.0:\n",
      "      Successfully uninstalled torch-1.6.0\n",
      "  Attempting uninstall: idna\n",
      "    Found existing installation: idna 2.10\n",
      "    Uninstalling idna-2.10:\n",
      "      Successfully uninstalled idna-2.10\n",
      "  Attempting uninstall: requests\n",
      "    Found existing installation: requests 2.24.0\n",
      "    Uninstalling requests-2.24.0:\n",
      "      Successfully uninstalled requests-2.24.0\n",
      "  Attempting uninstall: numpy\n",
      "    Found existing installation: numpy 1.19.2\n",
      "    Uninstalling numpy-1.19.2:\n",
      "      Successfully uninstalled numpy-1.19.2\n",
      "  Attempting uninstall: scipy\n",
      "    Found existing installation: scipy 1.5.2\n",
      "    Uninstalling scipy-1.5.2:\n",
      "      Successfully uninstalled scipy-1.5.2\n",
      "  Attempting uninstall: notebook\n",
      "    Found existing installation: notebook 6.1.4\n",
      "    Uninstalling notebook-6.1.4:\n",
      "      Successfully uninstalled notebook-6.1.4\n",
      "Successfully installed Flask-1.1.2 RestrictedPython-5.1 Werkzeug-1.0.1 aioice-0.6.18 aiortc-0.9.28 av-8.0.2 click-7.1.2 crc32c-2.1 dill-0.3.2 flask-socketio-4.2.1 idna-2.8 importlib-resources-1.5.0 itsdangerous-1.1.0 lz4-3.0.2 msgpack-1.0.0 netifaces-0.10.9 notebook-5.7.8 numpy-1.18.5 openmined.threepio-0.2.0 phe-1.4.0 protobuf-3.13.0 psutil-5.7.0 pyee-8.1.0 pylibsrtp-0.6.6 python-engineio-3.13.2 python-socketio-4.6.0 requests-2.22.0 requests-toolbelt-0.9.1 scipy-1.4.1 shaloop-0.2.1a11 syft-0.2.9 syft-proto-0.5.2 tblib-1.6.0 torch-1.4.0 torchvision-0.5.0 tornado-4.5.3 websocket-client-0.57.0 websockets-8.1\n"
     ]
    }
   ],
   "source": [
    "import sys\n",
    "!{sys.executable} -m pip install syft"
   ]
  },
  {
   "cell_type": "markdown",
   "metadata": {},
   "source": [
    "# Ensure Proper Downloading"
   ]
  },
  {
   "cell_type": "code",
   "execution_count": 2,
   "metadata": {},
   "outputs": [
    {
     "name": "stderr",
     "output_type": "stream",
     "text": [
      "WARNING:root:Torch was already hooked... skipping hooking process\n"
     ]
    },
    {
     "data": {
      "text/plain": [
       "tensor([1, 2, 3, 4, 5])"
      ]
     },
     "execution_count": 2,
     "metadata": {},
     "output_type": "execute_result"
    }
   ],
   "source": [
    "import sys\n",
    "\n",
    "import torch\n",
    "from torch.nn import Parameter\n",
    "import torch.nn as nn\n",
    "import torch.nn.functional as F\n",
    "\n",
    "import syft as sy\n",
    "hook = sy.TorchHook(torch)\n",
    "\n",
    "torch.tensor([1,2,3,4,5])"
   ]
  },
  {
   "cell_type": "markdown",
   "metadata": {},
   "source": [
    "## Basic Tools"
   ]
  },
  {
   "cell_type": "code",
   "execution_count": 27,
   "metadata": {},
   "outputs": [
    {
     "name": "stdout",
     "output_type": "stream",
     "text": [
      "tensor([3, 5, 7])\n",
      "tensor([ 4, 12, 57])\n",
      "look below at the pointer: \n",
      "(Wrapper)>[PointerTensor | me:73588783925 -> alice:94082622159]\n"
     ]
    },
    {
     "data": {
      "text/plain": [
       "{59826220630: tensor([ 4, 12, 57]),\n",
       " 32371516483: tensor([ 4, 12, 57]),\n",
       " 94082622159: tensor([ 3,  8, 18]),\n",
       " 18129534882: tensor([ 1,  4, 39])}"
      ]
     },
     "execution_count": 27,
     "metadata": {},
     "output_type": "execute_result"
    }
   ],
   "source": [
    "# How tensors work together\n",
    "x = torch.tensor([3, 4, 5])\n",
    "y = x*2 - 3\n",
    "print (y)\n",
    "\n",
    "# work with pointers to tensors, create \"pretend\" machine\n",
    "\n",
    "alice_machine = sy.VirtualWorker(hook, id=\"alice\")\n",
    "\n",
    "# fake data to send to alice\n",
    "fake1 = torch.tensor([3, 8, 18])\n",
    "fake2 = torch.tensor([1, 4, 39])\n",
    "print (fake1 + fake2)\n",
    "\n",
    "# this sends these tensors to Alice's machine\n",
    "fake1_ptr = fake1.send(alice_machine)\n",
    "fake2_ptr = fake2.send(alice_machine)\n",
    "\n",
    "print (\"look below at the pointer: \\n\" + str(fake1_ptr))\n",
    "# check out out alice's tensors\n",
    "alice_machine._objects"
   ]
  },
  {
   "cell_type": "markdown",
   "metadata": {},
   "source": [
    "## Playing further around with this concept"
   ]
  },
  {
   "cell_type": "code",
   "execution_count": 57,
   "metadata": {},
   "outputs": [
    {
     "data": {
      "text/plain": [
       "{59826220630: tensor([ 4, 12, 57])}"
      ]
     },
     "execution_count": 57,
     "metadata": {},
     "output_type": "execute_result"
    }
   ],
   "source": [
    "# add the sum of the first two tensors\n",
    "fake3 = fake1_ptr + fake2_ptr\n",
    "alice_machine._objects\n",
    "\n"
   ]
  },
  {
   "cell_type": "code",
   "execution_count": 58,
   "metadata": {},
   "outputs": [],
   "source": [
    "fake1_ptr.location"
   ]
  },
  {
   "cell_type": "code",
   "execution_count": 59,
   "metadata": {},
   "outputs": [
    {
     "data": {
      "text/plain": [
       "<VirtualWorker id:alice #objects:1>"
      ]
     },
     "execution_count": 59,
     "metadata": {},
     "output_type": "execute_result"
    }
   ],
   "source": [
    "alice_machine"
   ]
  },
  {
   "cell_type": "code",
   "execution_count": 42,
   "metadata": {},
   "outputs": [
    {
     "data": {
      "text/plain": [
       "True"
      ]
     },
     "execution_count": 42,
     "metadata": {},
     "output_type": "execute_result"
    }
   ],
   "source": [
    "# alice_machine, location, reference to location that pointer pointing to\n",
    "alice_machine == fake1_ptr.location"
   ]
  },
  {
   "cell_type": "code",
   "execution_count": 43,
   "metadata": {},
   "outputs": [
    {
     "data": {
      "text/plain": [
       "94082622159"
      ]
     },
     "execution_count": 43,
     "metadata": {},
     "output_type": "execute_result"
    }
   ],
   "source": [
    "# id where tensor stored at location\n",
    "fake1_ptr.id_at_location"
   ]
  },
  {
   "cell_type": "code",
   "execution_count": 39,
   "metadata": {},
   "outputs": [
    {
     "data": {
      "text/plain": [
       "<VirtualWorker id:me #objects:0>"
      ]
     },
     "execution_count": 39,
     "metadata": {},
     "output_type": "execute_result"
    }
   ],
   "source": [
    "# can see which worker owns the pointer tensors, here it is the local worker (\"me\")\n",
    "fake1_ptr.owner"
   ]
  },
  {
   "cell_type": "code",
   "execution_count": 44,
   "metadata": {},
   "outputs": [
    {
     "data": {
      "text/plain": [
       "<VirtualWorker id:me #objects:0>"
      ]
     },
     "execution_count": 44,
     "metadata": {},
     "output_type": "execute_result"
    }
   ],
   "source": [
    "# by default have VirtualWorker for us, automtically created by hook = sy.TorchHook()\n",
    "me = sy.local_worker\n",
    "me"
   ]
  },
  {
   "cell_type": "code",
   "execution_count": 41,
   "metadata": {},
   "outputs": [
    {
     "data": {
      "text/plain": [
       "True"
      ]
     },
     "execution_count": 41,
     "metadata": {},
     "output_type": "execute_result"
    }
   ],
   "source": [
    "me == fake1_ptr.owner"
   ]
  },
  {
   "cell_type": "code",
   "execution_count": 45,
   "metadata": {},
   "outputs": [
    {
     "data": {
      "text/plain": [
       "tensor([ 3,  8, 18])"
      ]
     },
     "execution_count": 45,
     "metadata": {},
     "output_type": "execute_result"
    }
   ],
   "source": [
    "fake1_ptr.get()"
   ]
  },
  {
   "cell_type": "code",
   "execution_count": 46,
   "metadata": {},
   "outputs": [
    {
     "data": {
      "text/plain": [
       "tensor([ 1,  4, 39])"
      ]
     },
     "execution_count": 46,
     "metadata": {},
     "output_type": "execute_result"
    }
   ],
   "source": [
    "fake2_ptr.get()"
   ]
  },
  {
   "cell_type": "code",
   "execution_count": 47,
   "metadata": {},
   "outputs": [
    {
     "data": {
      "text/plain": [
       "tensor([ 4, 12, 57])"
      ]
     },
     "execution_count": 47,
     "metadata": {},
     "output_type": "execute_result"
    }
   ],
   "source": [
    "fake3.get()"
   ]
  },
  {
   "cell_type": "code",
   "execution_count": 60,
   "metadata": {},
   "outputs": [
    {
     "data": {
      "text/plain": [
       "{59826220630: tensor([ 4, 12, 57])}"
      ]
     },
     "execution_count": 60,
     "metadata": {},
     "output_type": "execute_result"
    }
   ],
   "source": [
    "alice_machine._objects"
   ]
  },
  {
   "cell_type": "markdown",
   "metadata": {},
   "source": [
    "### Using Tensor Pointers"
   ]
  },
  {
   "cell_type": "code",
   "execution_count": 68,
   "metadata": {},
   "outputs": [
    {
     "data": {
      "text/plain": [
       "<VirtualWorker id:alice3 #objects:2>"
      ]
     },
     "execution_count": 68,
     "metadata": {},
     "output_type": "execute_result"
    }
   ],
   "source": [
    "alice3 = sy.VirtualWorker(hook, id=\"alice3\")\n",
    "x = torch.tensor([1, 2, 4, 8]).send(alice3)\n",
    "y = torch.tensor([3, 5, 7, 11]).send(alice3)\n",
    "alice3"
   ]
  },
  {
   "cell_type": "code",
   "execution_count": 73,
   "metadata": {},
   "outputs": [],
   "source": [
    "# observe how this automatically gets sent to machine\n",
    "z = x + y"
   ]
  },
  {
   "cell_type": "code",
   "execution_count": 70,
   "metadata": {},
   "outputs": [
    {
     "data": {
      "text/plain": [
       "(Wrapper)>[PointerTensor | me:90707844158 -> alice3:52995406229]"
      ]
     },
     "execution_count": 70,
     "metadata": {},
     "output_type": "execute_result"
    }
   ],
   "source": [
    "z"
   ]
  },
  {
   "cell_type": "code",
   "execution_count": 71,
   "metadata": {},
   "outputs": [
    {
     "data": {
      "text/plain": [
       "tensor([ 4,  7, 11, 19])"
      ]
     },
     "execution_count": 71,
     "metadata": {},
     "output_type": "execute_result"
    }
   ],
   "source": [
    "z.get()"
   ]
  },
  {
   "cell_type": "code",
   "execution_count": 72,
   "metadata": {},
   "outputs": [
    {
     "data": {
      "text/plain": [
       "<VirtualWorker id:alice3 #objects:2>"
      ]
     },
     "execution_count": 72,
     "metadata": {},
     "output_type": "execute_result"
    }
   ],
   "source": [
    "alice3"
   ]
  }
 ],
 "metadata": {
  "kernelspec": {
   "display_name": "Python 3",
   "language": "python",
   "name": "python3"
  },
  "language_info": {
   "codemirror_mode": {
    "name": "ipython",
    "version": 3
   },
   "file_extension": ".py",
   "mimetype": "text/x-python",
   "name": "python",
   "nbconvert_exporter": "python",
   "pygments_lexer": "ipython3",
   "version": "3.8.3"
  }
 },
 "nbformat": 4,
 "nbformat_minor": 4
}
