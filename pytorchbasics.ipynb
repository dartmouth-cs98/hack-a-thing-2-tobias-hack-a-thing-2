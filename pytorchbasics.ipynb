{
 "cells": [
  {
   "cell_type": "code",
   "execution_count": null,
   "metadata": {},
   "outputs": [],
   "source": [
    "conda install pytorch torchvision -c pytorch"
   ]
  },
  {
   "cell_type": "code",
   "execution_count": null,
   "metadata": {},
   "outputs": [],
   "source": [
    "# testing installation\n",
    "from __future__ import print_function\n",
    "import torch\n",
    "x = torch.rand(5, 3)\n",
    "print(x)"
   ]
  },
  {
   "cell_type": "code",
   "execution_count": null,
   "metadata": {},
   "outputs": [],
   "source": [
    "# construct 5x3 matrix, uninitalized\n",
    "x = torch.empty(5, 3)\n",
    "print(x)\n",
    "\n",
    "# construct randomly initialized matrix\n",
    "y = torch.rand(5, 3)\n",
    "print(y)\n",
    "\n",
    "# cosnstruct matrix of zeros with dtype long\n",
    "z = torch.zeros(5, 3, dtype = torch.long)\n",
    "print (z)\n",
    "\n",
    "# construct tensor from data\n",
    "a = torch.tensor([5.72, 3])\n",
    "print (a)\n",
    "\n",
    "# create tensor based on existing tensor\n",
    "x = x.new_ones(5, 3, dtype=torch.double)\n",
    "print (x)\n",
    "x = torch.randn_like(x, dtype = torch.float)\n",
    "print (x)\n",
    "\n",
    "# get size\n",
    "print (x.size())"
   ]
  },
  {
   "cell_type": "code",
   "execution_count": null,
   "metadata": {},
   "outputs": [],
   "source": [
    "# Operations\n",
    "x = torch.rand(5, 3)\n",
    "y = torch.rand(5, 3)\n",
    "\n",
    "# testing different syntaxes\n",
    "print (x+y)\n",
    "print (torch.add(x,y))\n",
    "\n",
    "# can make a third tensor the output\n",
    "result = torch.empty(5,3)\n",
    "torch.add(x,y, out = result)\n",
    "print (result)\n",
    "\n",
    "# checking if these 2 different syntaxes also work\n",
    "test1 = x+y\n",
    "print (test1)\n",
    "test2 = torch.add(x,y)\n",
    "print (test2)\n",
    "\n",
    "y.add_(x)\n",
    "print (y)"
   ]
  },
  {
   "cell_type": "code",
   "execution_count": null,
   "metadata": {},
   "outputs": [],
   "source": [
    "# resizing tensors / indexing\n",
    "x = torch.rand(4,5)\n",
    "y = x.view(2, 10)\n",
    "z = x.view(20)\n",
    "a = x.view(-1, 4)\n",
    "print (x.size(), y.size(), z.size(), a.size())"
   ]
  },
  {
   "cell_type": "code",
   "execution_count": null,
   "metadata": {},
   "outputs": [],
   "source": [
    "# convert tensor to get value as python number\n",
    "x = torch.rand(3, 2)\n",
    "print (x)\n",
    "# experimenting with how these look\n",
    "print (5 * x[2][1])\n",
    "print (5 * x[2][1].item())\n",
    "\n",
    "# torch tensor to numpy array and vice versa\n",
    "a = torch.ones(12, 3)\n",
    "b = a.numpy()\n",
    "a.add_(1)\n",
    "print (b) # observe how b is ALWAYS the numpy version of a even if it changes!\n",
    "\n",
    "# changing numpy to torch tensor\n",
    "\n",
    "import numpy as np\n",
    "a = np.zeros(3)\n",
    "b = torch.from_numpy(a)\n",
    "np.add(a, 123, out = a)\n",
    "print (a)\n",
    "print (b)"
   ]
  }
 ],
 "metadata": {
  "kernelspec": {
   "display_name": "Python 3",
   "language": "python",
   "name": "python3"
  },
  "language_info": {
   "codemirror_mode": {
    "name": "ipython",
    "version": 3
   },
   "file_extension": ".py",
   "mimetype": "text/x-python",
   "name": "python",
   "nbconvert_exporter": "python",
   "pygments_lexer": "ipython3",
   "version": "3.8.3"
  }
 },
 "nbformat": 4,
 "nbformat_minor": 4
}
